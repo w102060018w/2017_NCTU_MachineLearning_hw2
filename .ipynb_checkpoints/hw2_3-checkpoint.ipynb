{
 "cells": [
  {
   "cell_type": "markdown",
   "metadata": {},
   "source": [
    "## Logistic Regression\n",
    "This data set contains 3 classes. we are going to construct a **multiclPass logistic regression model** with the softmax transformation as p(Ck|ϕ) = yk(ϕ) = exp(ak)/ SUM(exp(aj)). The error function is formed by using the **cross-\n",
    "entropy function as E(w) = -SUM(SUM(tnk*ln ynk))**"
   ]
  },
  {
   "cell_type": "code",
   "execution_count": 16,
   "metadata": {
    "collapsed": true
   },
   "outputs": [],
   "source": [
    "## import lib\n",
    "import pandas as pd\n",
    "import numpy as np\n",
    "from numpy.linalg import pinv,inv,matrix_power\n",
    "from scipy.linalg import sqrtm\n",
    "from scipy.io import loadmat\n",
    "import itertools\n",
    "import math\n",
    "import csv"
   ]
  },
  {
   "cell_type": "code",
   "execution_count": 39,
   "metadata": {},
   "outputs": [
    {
     "name": "stdout",
     "output_type": "stream",
     "text": [
      "[  1.41000000e+01   2.16000000e+00   2.30000000e+00   1.80000000e+01\n",
      "   1.05000000e+02   2.95000000e+00   3.32000000e+00   2.20000000e-01\n",
      "   2.38000000e+00   5.75000000e+00   1.25000000e+00   3.17000000e+00\n",
      "   1.51000000e+03]\n",
      "[0 0 1]\n"
     ]
    }
   ],
   "source": [
    "# load data\n",
    "data_dir = './Data/'\n",
    "train_f = 'train.csv'\n",
    "test_f = 'test.csv'\n",
    "df_tr = pd.read_csv(data_dir+train_f,header=None)\n",
    "df_ts = pd.read_csv(data_dir+test_f,header=None)\n",
    "tN = df_tr.iloc[:,:3].as_matrix()\n",
    "xN = df_tr.iloc[:,3:].as_matrix()\n",
    "# print(xN[0])\n",
    "# print(tN[0])"
   ]
  },
  {
   "cell_type": "code",
   "execution_count": null,
   "metadata": {
    "collapsed": true
   },
   "outputs": [],
   "source": []
  }
 ],
 "metadata": {
  "kernelspec": {
   "display_name": "Python 3",
   "language": "python",
   "name": "python3"
  },
  "language_info": {
   "codemirror_mode": {
    "name": "ipython",
    "version": 3
   },
   "file_extension": ".py",
   "mimetype": "text/x-python",
   "name": "python",
   "nbconvert_exporter": "python",
   "pygments_lexer": "ipython3",
   "version": "3.6.2"
  }
 },
 "nbformat": 4,
 "nbformat_minor": 2
}
