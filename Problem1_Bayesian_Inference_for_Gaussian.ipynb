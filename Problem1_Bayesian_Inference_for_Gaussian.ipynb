{
 "cells": [
  {
   "cell_type": "markdown",
   "metadata": {},
   "source": [
    "## find the MAP solution to the Inverse of Covariance matrix"
   ]
  },
  {
   "cell_type": "code",
   "execution_count": 138,
   "metadata": {
    "collapsed": true
   },
   "outputs": [],
   "source": [
    "import numpy as np\n",
    "from scipy.io import loadmat\n",
    "import matplotlib.pyplot as plt\n",
    "from numpy.linalg import pinv,inv,matrix_power"
   ]
  },
  {
   "cell_type": "code",
   "execution_count": 139,
   "metadata": {},
   "outputs": [],
   "source": [
    "## load data\n",
    "data_dir = './Data/'\n",
    "x = loadmat(data_dir+'1_data.mat')['r2']"
   ]
  },
  {
   "cell_type": "code",
   "execution_count": 140,
   "metadata": {},
   "outputs": [
    {
     "name": "stdout",
     "output_type": "stream",
     "text": [
      "n =  10\n",
      "Σ^−1 = \n",
      " [[ 3.66978277 -1.57678899]\n",
      " [-1.57678899  1.08166042]]\n",
      "================================\n",
      "n =  100\n",
      "Σ^−1 = \n",
      " [[ 6.11438285 -2.6848374 ]\n",
      " [-2.6848374   2.14480209]]\n",
      "================================\n",
      "n =  500\n",
      "Σ^−1 = \n",
      " [[ 7.12490328 -3.19947052]\n",
      " [-3.19947052  2.56317049]]\n",
      "================================\n"
     ]
    }
   ],
   "source": [
    "# basic setting\n",
    "Ns = [10,100,500]\n",
    "mu = np.array([1,-1])\n",
    "w0 = np.array([[1,0],[0,1]])\n",
    "df0 = 1\n",
    "D = 2 # the dimension of W_cov, also it's the dimension of data(i.e. x)\n",
    "\n",
    "for N in Ns:\n",
    "    K = np.zeros((D,D)) # Since the dimension of x is 2\n",
    "    for idx, ele in enumerate(x[:N]):\n",
    "#         K += np.array([[(ele[0]-mu[0])**2,0],[0,(ele[1]-mu[1])**2]])\n",
    "        K += np.dot((ele-mu).reshape(2,1),(ele-mu).reshape(1,2))\n",
    "    \n",
    "    # Base on the first deritative result, we can get Cov_MAP\n",
    "    Covinv_MAP = (N+df0-D-1) * inv(inv(w0)+K)\n",
    "    \n",
    "    print('n = ',N)\n",
    "    print('Σ^−1 = \\n',Covinv_MAP)\n",
    "    print('================================')\n",
    "    "
   ]
  },
  {
   "cell_type": "code",
   "execution_count": 117,
   "metadata": {},
   "outputs": [],
   "source": [
    "# # from test_continuous_basic import check_distribution_rvs\n",
    " \n",
    "# import numpy\n",
    "# import numpy as np\n",
    " \n",
    "# from scipy.stats import wishart, invwishart, chi2, invgamma\n",
    "# from scipy.stats import norm\n",
    "\n",
    "# scale = np.array([[1,0],   # 2-dim\n",
    "#                   [0,1]])\n",
    "# df = 3\n",
    "# w = wishart(df, scale)\n",
    "\n",
    "# print(w.__dict__)\n",
    "# print(w.__dict__['pdf'])"
   ]
  },
  {
   "cell_type": "code",
   "execution_count": null,
   "metadata": {
    "collapsed": true
   },
   "outputs": [],
   "source": []
  }
 ],
 "metadata": {
  "kernelspec": {
   "display_name": "Python 3",
   "language": "python",
   "name": "python3"
  },
  "language_info": {
   "codemirror_mode": {
    "name": "ipython",
    "version": 3
   },
   "file_extension": ".py",
   "mimetype": "text/x-python",
   "name": "python",
   "nbconvert_exporter": "python",
   "pygments_lexer": "ipython3",
   "version": "3.6.2"
  }
 },
 "nbformat": 4,
 "nbformat_minor": 2
}
